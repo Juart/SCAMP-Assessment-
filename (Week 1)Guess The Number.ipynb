{
 "cells": [
  {
   "cell_type": "code",
   "execution_count": 1,
   "metadata": {},
   "outputs": [],
   "source": [
    "import random # random module used in generating random numbers."
   ]
  },
  {
   "cell_type": "code",
   "execution_count": 2,
   "metadata": {},
   "outputs": [],
   "source": [
    "random_number, guessed_number = random.randint(0,20), 0 # multiple variables per line"
   ]
  },
  {
   "cell_type": "code",
   "execution_count": 5,
   "metadata": {},
   "outputs": [
    {
     "name": "stdout",
     "output_type": "stream",
     "text": [
      "Guess a number: 6\n",
      "6\n",
      "Awesome!\n"
     ]
    }
   ],
   "source": [
    "guessed_number = int(input(\"Guess a number: \")) # number guessed by the user\n",
    "print(guessed_number)\n",
    "\n",
    "if guessed_number > random_number: \n",
    "    print(\"That's pretty higher\")\n",
    "elif guessed_number < random_number:\n",
    "    print(\"That's wayy lowww\")\n",
    "else:\n",
    "    print('Awesome!')"
   ]
  },
  {
   "cell_type": "code",
   "execution_count": null,
   "metadata": {},
   "outputs": [],
   "source": []
  }
 ],
 "metadata": {
  "kernelspec": {
   "display_name": "Python 3",
   "language": "python",
   "name": "python3"
  },
  "language_info": {
   "codemirror_mode": {
    "name": "ipython",
    "version": 3
   },
   "file_extension": ".py",
   "mimetype": "text/x-python",
   "name": "python",
   "nbconvert_exporter": "python",
   "pygments_lexer": "ipython3",
   "version": "3.8.3"
  }
 },
 "nbformat": 4,
 "nbformat_minor": 4
}
